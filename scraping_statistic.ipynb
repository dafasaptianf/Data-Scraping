{
 "cells": [
  {
   "cell_type": "code",
   "execution_count": 1,
   "metadata": {},
   "outputs": [],
   "source": [
    "import json\n",
    "import pandas as pd\n",
    "import numpy as np\n",
    "import matplotlib as mpl\n",
    "import matplotlib.pyplot as plt\n",
    "import seaborn as sns\n",
    "from pathlib import Path\n",
    "\n",
    "\n",
    "from selenium import webdriver #selenium 4.20.0\n",
    "from selenium.webdriver.chrome.service import Service as ChromeService\n",
    "from selenium.common.exceptions import WebDriverException\n",
    "\n",
    "from webdriver_manager.chrome import ChromeDriverManager\n",
    " # version 4.0.1"
   ]
  },
  {
   "cell_type": "code",
   "execution_count": 2,
   "metadata": {},
   "outputs": [],
   "source": [
    "options = webdriver.ChromeOptions()\n",
    "options.set_capability(\n",
    "    \"goog:loggingPrefs\", {\"performance\": \"ALL\", \"browser\": \"ALL\"}\n",
    ")\n",
    "\n",
    "# Make sure you already have Chrome installed\n",
    "driver = webdriver.Chrome(service=ChromeService(ChromeDriverManager().install()), options=options)"
   ]
  },
  {
   "cell_type": "code",
   "execution_count": 3,
   "metadata": {},
   "outputs": [],
   "source": [
    "driver.set_page_load_timeout(30)\n",
    "\n",
    "try:\n",
    "    driver.get(\"https://www.sofascore.com/api/v1/player/923136/unique-tournament/1015/season/52519/statistics/overall\")\n",
    "except:\n",
    "    pass\n",
    "\n",
    "\n",
    "driver.execute_script(\"window.scrollTo(0, document.body.scrollHeight);\")"
   ]
  },
  {
   "cell_type": "code",
   "execution_count": 4,
   "metadata": {},
   "outputs": [],
   "source": [
    "# extract requests from logs\n",
    "logs_raw = driver.get_log(\"performance\")\n",
    "logs = [json.loads(lr[\"message\"])[\"message\"] for lr in logs_raw]"
   ]
  },
  {
   "cell_type": "code",
   "execution_count": 5,
   "metadata": {},
   "outputs": [
    {
     "name": "stdout",
     "output_type": "stream",
     "text": [
      "Request ID: 8191593DD26BF81F67CED16A2588895B, URL: https://www.sofascore.com/api/v1/player/923136/unique-tournament/1015/season/52519/statistics/overall\n",
      "Response body successfully retrieved:\n",
      "{\"statistics\":{\"rating\":6.8791666666667,\"goals\":1,\"assists\":1,\"goalsAssistsSum\":2,\"accuratePasses\":684,\"inaccuratePasses\":92,\"totalPasses\":776,\"accuratePassesPercentage\":88.14,\"accurateFinalThirdPasses\":126,\"keyPasses\":11,\"successfulDribbles\":9,\"successfulDribblesPercentage\":75,\"interceptions\":54,\"yellowCards\":8,\"directRedCards\":0,\"redCards\":1,\"accurateCrosses\":7,\"accurateCrossesPercentage\":41.18,\"totalShots\":13,\"shotsOnTarget\":3,\"shotsOffTarget\":10,\"aerialDuelsWon\":11,\"aerialDuelsWonPercentage\":57.89,\"totalDuelsWon\":76,\"totalDuelsWonPercentage\":32.9,\"minutesPlayed\":1495,\"goalConversionPercentage\":7.692,\"penaltiesTaken\":0,\"penaltyGoals\":0,\"shotFromSetPiece\":2,\"accurateLongBalls\":63,\"accurateLongBallsPercentage\":63,\"clearances\":21,\"errorLeadToShot\":4,\"wasFouled\":22,\"fouls\":40,\"dribbledPast\":46,\"offsides\":0,\"blockedShots\":5,\"passToAssist\":2,\"saves\":0,\"cleanSheet\":0,\"crossesNotClaimed\":0,\"matchesStarted\":17,\"penaltyConversion\":0,\"totalCross\":17,\"duelLost\":155,\"aerialLost\":8,\"attemptPenaltyMiss\":0,\"totalLongBalls\":100,\"goalsConceded\":0,\"scoringFrequency\":1495,\"yellowRedCards\":1,\"substitutionsIn\":13,\"substitutionsOut\":8,\"goalKicks\":0,\"ballRecovery\":104,\"id\":1136671,\"type\":\"overall\",\"appearances\":25},\"team\":{\"name\":\"Persija Jakarta\",\"slug\":\"persija-jakarta\",\"shortName\":\"Persija\",\"gender\":\"M\",\"sport\":{\"name\":\"Football\",\"slug\":\"football\",\"id\":1},\"userCount\":15894,\"nameCode\":\"PEJ\",\"disabled\":false,\"national\":false,\"type\":0,\"id\":64295,\"teamColors\":{\"primary\":\"#ff0000\",\"secondary\":\"#ffffff\",\"text\":\"#ffffff\"},\"fieldTranslations\":{\"nameTranslation\":{\"ar\":\"\\u0628\\u064a\\u0631\\u0633\\u062c\\u0629 \\u062c\\u0627\\u0643\\u0631\\u062a\\u0627\",\"ru\":\"\\u041f\\u0435\\u0440\\u0441\\u0438\\u044f \\u0414\\u0436\\u0430\\u043a\\u0430\\u0440\\u0442\\u0430\"},\"shortNameTranslation\":{}}}}\n"
     ]
    },
    {
     "data": {
      "text/plain": [
       "'{\"statistics\":{\"rating\":6.8791666666667,\"goals\":1,\"assists\":1,\"goalsAssistsSum\":2,\"accuratePasses\":684,\"inaccuratePasses\":92,\"totalPasses\":776,\"accuratePassesPercentage\":88.14,\"accurateFinalThirdPasses\":126,\"keyPasses\":11,\"successfulDribbles\":9,\"successfulDribblesPercentage\":75,\"interceptions\":54,\"yellowCards\":8,\"directRedCards\":0,\"redCards\":1,\"accurateCrosses\":7,\"accurateCrossesPercentage\":41.18,\"totalShots\":13,\"shotsOnTarget\":3,\"shotsOffTarget\":10,\"aerialDuelsWon\":11,\"aerialDuelsWonPercentage\":57.89,\"totalDuelsWon\":76,\"totalDuelsWonPercentage\":32.9,\"minutesPlayed\":1495,\"goalConversionPercentage\":7.692,\"penaltiesTaken\":0,\"penaltyGoals\":0,\"shotFromSetPiece\":2,\"accurateLongBalls\":63,\"accurateLongBallsPercentage\":63,\"clearances\":21,\"errorLeadToShot\":4,\"wasFouled\":22,\"fouls\":40,\"dribbledPast\":46,\"offsides\":0,\"blockedShots\":5,\"passToAssist\":2,\"saves\":0,\"cleanSheet\":0,\"crossesNotClaimed\":0,\"matchesStarted\":17,\"penaltyConversion\":0,\"totalCross\":17,\"duelLost\":155,\"aerialLost\":8,\"attemptPenaltyMiss\":0,\"totalLongBalls\":100,\"goalsConceded\":0,\"scoringFrequency\":1495,\"yellowRedCards\":1,\"substitutionsIn\":13,\"substitutionsOut\":8,\"goalKicks\":0,\"ballRecovery\":104,\"id\":1136671,\"type\":\"overall\",\"appearances\":25},\"team\":{\"name\":\"Persija Jakarta\",\"slug\":\"persija-jakarta\",\"shortName\":\"Persija\",\"gender\":\"M\",\"sport\":{\"name\":\"Football\",\"slug\":\"football\",\"id\":1},\"userCount\":15894,\"nameCode\":\"PEJ\",\"disabled\":false,\"national\":false,\"type\":0,\"id\":64295,\"teamColors\":{\"primary\":\"#ff0000\",\"secondary\":\"#ffffff\",\"text\":\"#ffffff\"},\"fieldTranslations\":{\"nameTranslation\":{\"ar\":\"\\\\u0628\\\\u064a\\\\u0631\\\\u0633\\\\u062c\\\\u0629 \\\\u062c\\\\u0627\\\\u0643\\\\u0631\\\\u062a\\\\u0627\",\"ru\":\"\\\\u041f\\\\u0435\\\\u0440\\\\u0441\\\\u0438\\\\u044f \\\\u0414\\\\u0436\\\\u0430\\\\u043a\\\\u0430\\\\u0440\\\\u0442\\\\u0430\"},\"shortNameTranslation\":{}}}}'"
      ]
     },
     "execution_count": 5,
     "metadata": {},
     "output_type": "execute_result"
    }
   ],
   "source": [
    "desired_keywords = ['statistics']\n",
    "\n",
    "for log in logs:\n",
    "    # Check if the log contains the 'method' key\n",
    "    if 'method' in log:\n",
    "        # Check if the log method is 'Network.responseReceived'\n",
    "        if log[\"method\"] == \"Network.responseReceived\":\n",
    "            # Extract request ID and URL\n",
    "            request_id = log[\"params\"][\"requestId\"]\n",
    "            url = log[\"params\"][\"response\"][\"url\"]\n",
    "            # Check if the URL contains any of the desired keywords\n",
    "            if any(keyword in url for keyword in desired_keywords):\n",
    "                # Print the request ID and URL\n",
    "                print(f\"Request ID: {request_id}, URL: {url}\")\n",
    "                # # Try to retrieve the response body using the request ID\n",
    "                try:\n",
    "                    response = driver.execute_cdp_cmd('Network.getResponseBody', {'requestId': request_id})\n",
    "                    stats = response['body']\n",
    "                    if stats:\n",
    "                        print(\"Response body successfully retrieved:\")\n",
    "                        print(stats)\n",
    "                        break\n",
    "                    else:\n",
    "                        print(\"Response body is empty. Trying next request ID...\")\n",
    "                except Exception as e:\n",
    "                    print(f\"Error occurred while retrieving response for request ID {request_id}: {e}\")\n",
    "                    continue\n",
    "\n",
    "stats\n"
   ]
  },
  {
   "cell_type": "code",
   "execution_count": 6,
   "metadata": {},
   "outputs": [
    {
     "data": {
      "text/html": [
       "<div>\n",
       "<style scoped>\n",
       "    .dataframe tbody tr th:only-of-type {\n",
       "        vertical-align: middle;\n",
       "    }\n",
       "\n",
       "    .dataframe tbody tr th {\n",
       "        vertical-align: top;\n",
       "    }\n",
       "\n",
       "    .dataframe thead th {\n",
       "        text-align: right;\n",
       "    }\n",
       "</style>\n",
       "<table border=\"1\" class=\"dataframe\">\n",
       "  <thead>\n",
       "    <tr style=\"text-align: right;\">\n",
       "      <th></th>\n",
       "      <th>statistics.rating</th>\n",
       "      <th>statistics.goals</th>\n",
       "      <th>statistics.assists</th>\n",
       "      <th>statistics.goalsAssistsSum</th>\n",
       "      <th>statistics.accuratePasses</th>\n",
       "      <th>statistics.inaccuratePasses</th>\n",
       "      <th>statistics.totalPasses</th>\n",
       "      <th>statistics.accuratePassesPercentage</th>\n",
       "      <th>statistics.accurateFinalThirdPasses</th>\n",
       "      <th>statistics.keyPasses</th>\n",
       "      <th>...</th>\n",
       "      <th>team.nameCode</th>\n",
       "      <th>team.disabled</th>\n",
       "      <th>team.national</th>\n",
       "      <th>team.type</th>\n",
       "      <th>team.id</th>\n",
       "      <th>team.teamColors.primary</th>\n",
       "      <th>team.teamColors.secondary</th>\n",
       "      <th>team.teamColors.text</th>\n",
       "      <th>team.fieldTranslations.nameTranslation.ar</th>\n",
       "      <th>team.fieldTranslations.nameTranslation.ru</th>\n",
       "    </tr>\n",
       "  </thead>\n",
       "  <tbody>\n",
       "    <tr>\n",
       "      <th>0</th>\n",
       "      <td>6.879167</td>\n",
       "      <td>1</td>\n",
       "      <td>1</td>\n",
       "      <td>2</td>\n",
       "      <td>684</td>\n",
       "      <td>92</td>\n",
       "      <td>776</td>\n",
       "      <td>88.14</td>\n",
       "      <td>126</td>\n",
       "      <td>11</td>\n",
       "      <td>...</td>\n",
       "      <td>PEJ</td>\n",
       "      <td>False</td>\n",
       "      <td>False</td>\n",
       "      <td>0</td>\n",
       "      <td>64295</td>\n",
       "      <td>#ff0000</td>\n",
       "      <td>#ffffff</td>\n",
       "      <td>#ffffff</td>\n",
       "      <td>بيرسجة جاكرتا</td>\n",
       "      <td>Персия Джакарта</td>\n",
       "    </tr>\n",
       "  </tbody>\n",
       "</table>\n",
       "<p>1 rows × 78 columns</p>\n",
       "</div>"
      ],
      "text/plain": [
       "   statistics.rating  statistics.goals  statistics.assists  \\\n",
       "0           6.879167                 1                   1   \n",
       "\n",
       "   statistics.goalsAssistsSum  statistics.accuratePasses  \\\n",
       "0                           2                        684   \n",
       "\n",
       "   statistics.inaccuratePasses  statistics.totalPasses  \\\n",
       "0                           92                     776   \n",
       "\n",
       "   statistics.accuratePassesPercentage  statistics.accurateFinalThirdPasses  \\\n",
       "0                                88.14                                  126   \n",
       "\n",
       "   statistics.keyPasses  ...  team.nameCode  team.disabled  team.national  \\\n",
       "0                    11  ...            PEJ          False          False   \n",
       "\n",
       "   team.type  team.id  team.teamColors.primary  team.teamColors.secondary  \\\n",
       "0          0    64295                  #ff0000                    #ffffff   \n",
       "\n",
       "   team.teamColors.text  team.fieldTranslations.nameTranslation.ar  \\\n",
       "0               #ffffff                              بيرسجة جاكرتا   \n",
       "\n",
       "   team.fieldTranslations.nameTranslation.ru  \n",
       "0                            Персия Джакарта  \n",
       "\n",
       "[1 rows x 78 columns]"
      ]
     },
     "execution_count": 6,
     "metadata": {},
     "output_type": "execute_result"
    }
   ],
   "source": [
    "data = json.loads(stats)\n",
    "df = pd.json_normalize(data)\n",
    "df"
   ]
  },
  {
   "cell_type": "code",
   "execution_count": 7,
   "metadata": {},
   "outputs": [],
   "source": [
    "df.to_csv('statistic_syahrianAbimanyu.csv', index=False)"
   ]
  }
 ],
 "metadata": {
  "kernelspec": {
   "display_name": "Python 3",
   "language": "python",
   "name": "python3"
  },
  "language_info": {
   "codemirror_mode": {
    "name": "ipython",
    "version": 3
   },
   "file_extension": ".py",
   "mimetype": "text/x-python",
   "name": "python",
   "nbconvert_exporter": "python",
   "pygments_lexer": "ipython3",
   "version": "3.11.9"
  }
 },
 "nbformat": 4,
 "nbformat_minor": 2
}
